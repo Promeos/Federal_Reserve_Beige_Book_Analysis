{
 "cells": [
  {
   "cell_type": "markdown",
   "metadata": {},
   "source": [
    "# Acquire Beige Book Text"
   ]
  },
  {
   "cell_type": "code",
   "execution_count": 34,
   "metadata": {},
   "outputs": [],
   "source": [
    "import pandas as pd\n",
    "from bs4 import BeautifulSoup, SoupStrainer, NavigableString, Tag\n",
    "from requests import get\n",
    "\n",
    "import nltk"
   ]
  },
  {
   "cell_type": "code",
   "execution_count": 2,
   "metadata": {},
   "outputs": [],
   "source": [
    "# Link to a Beige Book\n",
    "url = 'https://www.federalreserve.gov/monetarypolicy/beigebook202001.htm'\n",
    "\n",
    "# Headers for the server to acknowledge my request\n",
    "headers = {'User_Agent': 'Promeos'}"
   ]
  },
  {
   "cell_type": "code",
   "execution_count": 3,
   "metadata": {},
   "outputs": [],
   "source": [
    "# Store the HTML from the Fed url.\n",
    "response = get(url, headers=headers)"
   ]
  },
  {
   "cell_type": "code",
   "execution_count": 4,
   "metadata": {},
   "outputs": [
    {
     "data": {
      "text/plain": [
       "200"
      ]
     },
     "execution_count": 4,
     "metadata": {},
     "output_type": "execute_result"
    }
   ],
   "source": [
    "response.status_code"
   ]
  },
  {
   "cell_type": "code",
   "execution_count": 5,
   "metadata": {},
   "outputs": [],
   "source": [
    "soup = BeautifulSoup(response.content, 'html.parser')"
   ]
  },
  {
   "cell_type": "code",
   "execution_count": 12,
   "metadata": {
    "scrolled": false
   },
   "outputs": [
    {
     "data": {
      "text/plain": [
       "'The Fed - Beige Book - January 15, 2020'"
      ]
     },
     "execution_count": 12,
     "metadata": {},
     "output_type": "execute_result"
    }
   ],
   "source": [
    "soup.title.text"
   ]
  },
  {
   "cell_type": "code",
   "execution_count": 14,
   "metadata": {},
   "outputs": [
    {
     "name": "stdout",
     "output_type": "stream",
     "text": [
      "<!DOCTYPE html>\n",
      "<html class=\"no-js\" data-ng-app=\"pubwebApp\" lang=\"en\">\n",
      " <head>\n",
      "  <meta charset=\"utf-8\"/>\n",
      "  <meta content=\"IE=edge\" http-equiv=\"X-UA-Compatible\">\n",
      "   <meta content=\"width=device-width, initial-scale=1.0, minimum-scale=1.0 maximum-scale=1.6, user-scalable=1\" name=\"viewport\"/>\n",
      "   <meta content=\"Board of Governors of the Federal Reserve System, Federal Reserve Board of Governors, Federal Reserve Board, Federal Reserve\" name=\"keywords\"/>\n",
      "   <meta content=\"The Federal Reserve Board of Governors in Washington DC.\" name=\"description\"/>\n",
      "   <meta content=\"Board of Governors of the Federal Reserve System\" property=\"og:site_name\"/>\n",
      "   <meta content=\"article\" property=\"og:type\"/>\n",
      "   <meta content=\"\" property=\"og:image\"/>\n",
      "   <meta content=\"summary\" name=\"twitter:card\"/>\n",
      "   <meta content=\"\" name=\"twitter:image\"/>\n",
      "   <title>\n",
      "    The Fed - Beige Book - January 15, 2020\n",
      "   </title>\n",
      "   <link href=\"/css/bootstrap.css\" rel=\"stylesheet\" type=\"text/css\"/>\n",
      "   <link href=\"/css/bluesteel-theme.cs\n"
     ]
    }
   ],
   "source": [
    "print(soup.prettify()[:1000])"
   ]
  },
  {
   "cell_type": "code",
   "execution_count": 95,
   "metadata": {
    "scrolled": true
   },
   "outputs": [
    {
     "name": "stdout",
     "output_type": "stream",
     "text": [
      "1 : Federal Reserve Bank of Boston\n",
      "2 : Federal Reserve Bank of New York\n",
      "3 : Federal Reserve Bank of Philadelphia\n",
      "4 : Federal Reserve Bank of Cleveland\n",
      "5 : Federal Reserve Bank of Richmond\n",
      "6 : Federal Reserve Bank of Atlanta\n",
      "7 : Federal Reserve Bank of Chicago\n",
      "8 : Federal Reserve Bank of St. Louis\n",
      "9 : Federal Reserve Bank of Minneapolis\n",
      "10 : Federal Reserve Bank of Kansas City\n",
      "11 : Federal Reserve Bank of Dallas\n",
      "12 : Federal Reserve Bank of San Francisco\n"
     ]
    }
   ],
   "source": [
    "# 12 Federal Reserve Districts\n",
    "fed_districts = soup.find_all('h4')\n",
    "\n",
    "list_of_fed_districts = []\n",
    "\n",
    "for i in range(0, len(fed_districts)):\n",
    "    print(f'{i+1} : {fed_districts[i].text}')\n",
    "    list_of_fed_districts.append(fed_districts[i].text)"
   ]
  },
  {
   "cell_type": "code",
   "execution_count": 96,
   "metadata": {},
   "outputs": [
    {
     "data": {
      "text/plain": [
       "['Federal Reserve Bank of Boston',\n",
       " 'Federal Reserve Bank of New York',\n",
       " 'Federal Reserve Bank of Philadelphia',\n",
       " 'Federal Reserve Bank of Cleveland',\n",
       " 'Federal Reserve Bank of Richmond',\n",
       " 'Federal Reserve Bank of Atlanta',\n",
       " 'Federal Reserve Bank of Chicago',\n",
       " 'Federal Reserve Bank of St. Louis',\n",
       " 'Federal Reserve Bank of Minneapolis',\n",
       " 'Federal Reserve Bank of Kansas City',\n",
       " 'Federal Reserve Bank of Dallas',\n",
       " 'Federal Reserve Bank of San Francisco']"
      ]
     },
     "execution_count": 96,
     "metadata": {},
     "output_type": "execute_result"
    }
   ],
   "source": [
    "list_of_fed_districts"
   ]
  },
  {
   "cell_type": "code",
   "execution_count": 117,
   "metadata": {
    "scrolled": false
   },
   "outputs": [],
   "source": [
    "economic_activity = []\n",
    "\n",
    "for header in soup.find_all('h4'):\n",
    "    nextNode = header\n",
    "    while True:\n",
    "        nextNode = nextNode.nextSibling\n",
    "        if nextNode is None:\n",
    "            break\n",
    "        elif isinstance(nextNode, Tag):\n",
    "            if nextNode.name == 'p':\n",
    "                counter += 1\n",
    "                economic_activity.append(nextNode.get_text())\n",
    "                break\n",
    "        else:\n",
    "            None"
   ]
  },
  {
   "cell_type": "code",
   "execution_count": 118,
   "metadata": {},
   "outputs": [
    {
     "data": {
      "text/plain": [
       "[\"Summary of Economic Activity\\nEconomic activity continued to expand in the First District at the close of 2019. Retailers and manufacturers cited modest to moderate revenue increases from a year earlier, while results for software and information technology services firms were stronger. Respondents in these three sectors also reported continued tight labor markets, but none mentioned increasing wages (other than scheduled minimum wage rises in some states). Price increases continued to be modest according to contacts. Inventory shortages persisted in New England residential real estate markets, and median sales prices for single-family homes and condos rose across the region in November. Greater Boston's commercial real estate market continued to be robust, while commercial activity in the Providence area was moderate. Business outlooks ranged from very positive to cautiously optimistic, mostly reflecting expectations that recent trends will continue into 2020.\",\n",
       " 'Summary of Economic Activity\\nThe Second District economy grew at a modest pace in the latest reporting period. The labor market remained tight, though hiring activity was subdued and wages grew modestly. Businesses reported that both input prices and selling prices have continued to rise modestly. Manufacturing activity picked up slightly, while most service industries reported little change in business activity. Business contacts in most sectors were cautiously optimistic about the near-term outlook. Consumer spending was mixed, with retailers giving mixed reports on holiday-season sales, but auto dealers noting a fairly vibrant end to the year. Housing markets have been mixed but, on balance, steady, while the residential rental market has remained on a positive trend. Commercial real estate markets have weakened further. New commercial construction has remained sluggish, while multi-family residential construction has picked up. Finally, banks reported some pickup in loan demand and little change in delinquency rates, while financial sector contacts more generally reported weakening activity.',\n",
       " \"Summary of Economic Activity\\nAggregate Third District business activity edged back to a slight pace of growth during the current Beige Book period. Manufacturing slowed to a slight pace of growth, and financial services slowed to a modest pace. On balance, nonfinancial services continued growing modestly, but the pace seemed to ebb a bit. Nonresidential construction declined slightly after holding steady in the prior period. In contrast, homebuilders and auto dealers experienced slight-to-modest growth after a prior period of slight decline and no growth, respectively. Commercial leasing activity held steady, and sales of existing homes continued to decline at a moderate pace. Labor markets remained excessively tight throughout the District, and wages continued growing moderately. While contacts describe increased wage pressure, they continued to report slight employment increases. Overall, price pressures remained modest. The firms' outlook for growth over the next six months remained positive, though cautious, and broadened further among nonmanufacturing firms.\",\n",
       " 'Summary of Economic Activity\\nThe Fourth District economy continued to expand at a modest, relatively steady pace recently. The growth resulted from continuing strength in a few key sectors and waning drags from manufacturing and freight. As has been the case for several reporting periods, professional and business services firms provided a steady source of support for the broader economy. Construction and real estate activity remained strong, on balance, particularly on the nonresidential side. Meanwhile, consumer spending picked up as the holiday shopping season progressed. Bankers indicated that loan demand was stable on net. Although manufacturing activity did not expand during the reporting period, it did not contract either, as it had for much of 2019 as factories adjusted to weaker global economic growth and trade-related uncertainties. Turning to the outlook, firms remained optimistic about demand for their goods and services in coming months, albeit a little less optimistic than during the prior reporting period. Labor demand remained firm, while wages and selling prices increased at a modest pace.',\n",
       " \"Summary of Economic Activity\\nOverall, the Fifth District economy grew moderately in recent weeks. Manufacturing activity, however, softened slightly as firms continued to face headwinds from tariffs, other trade policies, and labor availability. Port activity varied by commodity, while trucking shipments rose modestly, compared to recent months, but remained below last year's level. Travel and tourism grew moderately, with particular strength in business travel. In addition, retailers reported moderate growth in sales as holiday shopping was even with or above the year-ago level. Home sales and mortgage lending remained fairly strong, as were commercial real estate leasing and construction. Business lending, according to bankers, was modest, as some firms were reluctant to invest due to uncertainty. Nonfinancial services firms gave mixed reports with some education and health services firms reporting growth while firms providing professional and business services reported softer demand. Farmers generally had good crop yields and solid demand in recent weeks, but faced tighter margins. The demand for labor remained strong across skill levels, and wage increases were moderate. Price growth picked up slightly for services, but remained muted, overall.\",\n",
       " 'Summary of Economic Activity\\nOn balance, economic activity in the Sixth District expanded at a modest pace since the previous report, and the outlook among contacts remained positive. Labor market tightness continued to limit growth in some sectors. Wage pressures persisted for lower-skilled positions, and some contacts expect higher wages in the coming year. In line with expectations, nonlabor costs continued to slowly rise. Retailers cited healthy holiday sales levels; however, automotive dealers saw relatively flat sales levels compared to a year earlier. District tourism contacts noted strong leisure travel activity. Residential real estate conditions continued to improve, and commercial real estate firms cited steady sales and leasing activity. Manufacturing activity decelerated as new order levels fell slightly and production levels declined. District bankers noted that financial conditions remained healthy, and the pace of loan growth was positive.',\n",
       " \"Summary of Economic Activity\\nEconomic activity in the Seventh District increased modestly overall in late November and December, and contacts expected growth to continue at a similar pace over the next 12 months. Consumer spending increased modestly, while business spending and construction and real estate activity increased slightly. Manufacturing and employment were little changed. Wages and prices rose slightly and financial conditions improved modestly. The prospects of a trade deal with China boosted farmers' outlooks.\",\n",
       " 'Summary of Economic Activity\\nReports from contacts indicate that economic conditions have slightly improved since our previous report. Firms reported employment levels were unchanged. Overall, wage pressures have increased moderately, with contacts citing minimum wage increases as a contributing factor. Reports on consumer spending were generally positive, although reports on holiday sales were mixed. Activity in the manufacturing sector continued to decline, although there are signs of stabilization. District banking contacts reported positive growth in loan volumes. Agriculture conditions remain unchanged, although overall conditions remain weak in this sector.',\n",
       " 'Summary of Economic Activity\\nThe Ninth District economy grew at a modest pace since the last report. Employment was mixed across the region, while wage pressures were moderate overall and price pressures remained modest. The District economy saw growth in consumer spending, commercial construction and real estate, residential construction, and energy. Manufacturing and energy activity was flat. Residential real estate fell slightly, while agricultural conditions remained weak.',\n",
       " 'Summary of Economic Activity\\nTenth District economic activity edged up in late November and December, although conditions remained mixed across sectors. Consumer spending rose modestly, driven by robust retail sales during the holiday shopping season. Contacts in the wholesale trade and professional and high-tech services sectors also reported modestly higher sales, while sales in the transportation sector decreased. Manufacturers continued to note slight declines in overall activity with ongoing weakness in durable goods factory activity. District real estate conditions held steady since the previous survey period, and contacts expected conditions to remain stable moving forward. District energy activity fell further, and contacts expected further declines in the months ahead. The agriculture sector remained weak despite rising commodity prices, and higher revenue from rising prices was not expected to significantly improve farm finances. District employment rose modestly since the previous survey period while employee hours held steady, and labor shortages were cited as the single biggest problem among a majority of respondents. Wages continued to expand at a modest pace, and contacts expected moderate growth in the months ahead. Services sector contacts continued to note higher input and selling prices since the previous survey period, while manufacturers and construction supply contacts noted slightly lower prices.',\n",
       " 'Summary of Economic Activity\\nThe Eleventh District economy expanded solidly over the reporting period, with growth increasing in most sectors. The energy sector remained weak, although drilling activity ticked up. Home sales continued to rise, even beating some expectations. The agriculture picture remained mixed. Employment growth was moderate, and upward wage pressures continued as labor availability remained a key concern. Selling prices were largely flat, while input prices continued to rise. Outlooks generally improved, with reduced trade uncertainty boosting optimism.',\n",
       " 'Summary of Economic Activity\\nEconomic activity in the Twelfth District expanded at a modest pace during the reporting period of mid-November through December. The labor market remained tight, employment growth picked up modestly, and wages rose further. Reports on prices suggested inflation was up slightly on balance. Sales of retail goods increased moderately, and activity in consumer and business services was up modestly. The pace of commerce in the manufacturing sector was stable, and activity in the agriculture sector was mixed. While the residential real estate market expanded strongly, commercial real estate activity softened somewhat. Lending grew steadily.']"
      ]
     },
     "execution_count": 118,
     "metadata": {},
     "output_type": "execute_result"
    }
   ],
   "source": [
    "economic_activity"
   ]
  },
  {
   "cell_type": "code",
   "execution_count": 122,
   "metadata": {},
   "outputs": [],
   "source": [
    "beige_book = pd.DataFrame([list_of_fed_districts, economic_activity]).T\n",
    "beige_book.columns=['district_name', 'economic_summary']"
   ]
  },
  {
   "cell_type": "code",
   "execution_count": 128,
   "metadata": {},
   "outputs": [],
   "source": [
    "beige_book['district_name'] = beige_book.district_name.str.replace('Federal Reserve Bank of', '')\n",
    "beige_book['economic_summary'] = beige_book.economic_summary.str.replace('Summary of Economic Activity\\n', '')"
   ]
  },
  {
   "cell_type": "code",
   "execution_count": 129,
   "metadata": {},
   "outputs": [
    {
     "data": {
      "text/html": [
       "<div>\n",
       "<style scoped>\n",
       "    .dataframe tbody tr th:only-of-type {\n",
       "        vertical-align: middle;\n",
       "    }\n",
       "\n",
       "    .dataframe tbody tr th {\n",
       "        vertical-align: top;\n",
       "    }\n",
       "\n",
       "    .dataframe thead th {\n",
       "        text-align: right;\n",
       "    }\n",
       "</style>\n",
       "<table border=\"1\" class=\"dataframe\">\n",
       "  <thead>\n",
       "    <tr style=\"text-align: right;\">\n",
       "      <th></th>\n",
       "      <th>district_name</th>\n",
       "      <th>economic_summary</th>\n",
       "    </tr>\n",
       "  </thead>\n",
       "  <tbody>\n",
       "    <tr>\n",
       "      <th>0</th>\n",
       "      <td>Boston</td>\n",
       "      <td>Economic activity continued to expand in the F...</td>\n",
       "    </tr>\n",
       "    <tr>\n",
       "      <th>1</th>\n",
       "      <td>New York</td>\n",
       "      <td>The Second District economy grew at a modest p...</td>\n",
       "    </tr>\n",
       "    <tr>\n",
       "      <th>2</th>\n",
       "      <td>Philadelphia</td>\n",
       "      <td>Aggregate Third District business activity edg...</td>\n",
       "    </tr>\n",
       "    <tr>\n",
       "      <th>3</th>\n",
       "      <td>Cleveland</td>\n",
       "      <td>The Fourth District economy continued to expan...</td>\n",
       "    </tr>\n",
       "    <tr>\n",
       "      <th>4</th>\n",
       "      <td>Richmond</td>\n",
       "      <td>Overall, the Fifth District economy grew moder...</td>\n",
       "    </tr>\n",
       "    <tr>\n",
       "      <th>5</th>\n",
       "      <td>Atlanta</td>\n",
       "      <td>On balance, economic activity in the Sixth Dis...</td>\n",
       "    </tr>\n",
       "    <tr>\n",
       "      <th>6</th>\n",
       "      <td>Chicago</td>\n",
       "      <td>Economic activity in the Seventh District incr...</td>\n",
       "    </tr>\n",
       "    <tr>\n",
       "      <th>7</th>\n",
       "      <td>St. Louis</td>\n",
       "      <td>Reports from contacts indicate that economic c...</td>\n",
       "    </tr>\n",
       "    <tr>\n",
       "      <th>8</th>\n",
       "      <td>Minneapolis</td>\n",
       "      <td>The Ninth District economy grew at a modest pa...</td>\n",
       "    </tr>\n",
       "    <tr>\n",
       "      <th>9</th>\n",
       "      <td>Kansas City</td>\n",
       "      <td>Tenth District economic activity edged up in l...</td>\n",
       "    </tr>\n",
       "    <tr>\n",
       "      <th>10</th>\n",
       "      <td>Dallas</td>\n",
       "      <td>The Eleventh District economy expanded solidly...</td>\n",
       "    </tr>\n",
       "    <tr>\n",
       "      <th>11</th>\n",
       "      <td>San Francisco</td>\n",
       "      <td>Economic activity in the Twelfth District expa...</td>\n",
       "    </tr>\n",
       "  </tbody>\n",
       "</table>\n",
       "</div>"
      ],
      "text/plain": [
       "     district_name                                   economic_summary\n",
       "0           Boston  Economic activity continued to expand in the F...\n",
       "1         New York  The Second District economy grew at a modest p...\n",
       "2     Philadelphia  Aggregate Third District business activity edg...\n",
       "3        Cleveland  The Fourth District economy continued to expan...\n",
       "4         Richmond  Overall, the Fifth District economy grew moder...\n",
       "5          Atlanta  On balance, economic activity in the Sixth Dis...\n",
       "6          Chicago  Economic activity in the Seventh District incr...\n",
       "7        St. Louis  Reports from contacts indicate that economic c...\n",
       "8      Minneapolis  The Ninth District economy grew at a modest pa...\n",
       "9      Kansas City  Tenth District economic activity edged up in l...\n",
       "10          Dallas  The Eleventh District economy expanded solidly...\n",
       "11   San Francisco  Economic activity in the Twelfth District expa..."
      ]
     },
     "execution_count": 129,
     "metadata": {},
     "output_type": "execute_result"
    }
   ],
   "source": [
    "beige_book"
   ]
  },
  {
   "cell_type": "code",
   "execution_count": null,
   "metadata": {},
   "outputs": [],
   "source": []
  }
 ],
 "metadata": {
  "kernelspec": {
   "display_name": "Python 3",
   "language": "python",
   "name": "python3"
  },
  "language_info": {
   "codemirror_mode": {
    "name": "ipython",
    "version": 3
   },
   "file_extension": ".py",
   "mimetype": "text/x-python",
   "name": "python",
   "nbconvert_exporter": "python",
   "pygments_lexer": "ipython3",
   "version": "3.8.8"
  }
 },
 "nbformat": 4,
 "nbformat_minor": 4
}
